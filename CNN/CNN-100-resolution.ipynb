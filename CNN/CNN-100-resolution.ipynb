{
 "cells": [
  {
   "cell_type": "code",
   "execution_count": 1,
   "metadata": {},
   "outputs": [
    {
     "name": "stdout",
     "output_type": "stream",
     "text": [
      "Created `%t` as an alias for `%timeit`.\n",
      "Created `%%t` as an alias for `%%timeit`.\n"
     ]
    },
    {
     "data": {
      "text/plain": [
       "<KeysViewHDF5 ['X', 'Y']>"
      ]
     },
     "execution_count": 1,
     "metadata": {},
     "output_type": "execute_result"
    }
   ],
   "source": [
    "import numpy as np\n",
    "import matplotlib.pyplot as plt\n",
    "import pandas as pd\n",
    "import h5py\n",
    "import timeit\n",
    "from mpl_toolkits.mplot3d import Axes3D\n",
    "from sklearn.cluster import DBSCAN\n",
    "\n",
    "%alias_magic t timeit\n",
    "\n",
    "# import warnings filter\n",
    "from warnings import simplefilter\n",
    "# ignore all future warnings\n",
    "simplefilter(action='ignore', category=FutureWarning)\n",
    "\n",
    "\n",
    "image = h5py.File('images-res100.h5', 'r')\n",
    "image.keys()\n"
   ]
  },
  {
   "cell_type": "code",
   "execution_count": 2,
   "metadata": {},
   "outputs": [],
   "source": [
    "X = image.get('X')"
   ]
  },
  {
   "cell_type": "code",
   "execution_count": 3,
   "metadata": {},
   "outputs": [],
   "source": [
    "X_tot = np.array(X)"
   ]
  },
  {
   "cell_type": "code",
   "execution_count": 4,
   "metadata": {},
   "outputs": [
    {
     "name": "stdout",
     "output_type": "stream",
     "text": [
      "<HDF5 dataset \"X\": shape (191611, 16, 16, 16, 4), type \"<f8\">\n",
      "<HDF5 dataset \"Y\": shape (191611, 2), type \"<f8\">\n",
      "(191611, 16, 16, 16, 4)\n",
      "(191611, 2)\n"
     ]
    }
   ],
   "source": [
    "Y = image.get('Y')\n",
    "Y_tot = np.array(Y)\n",
    "\n",
    "print(X)\n",
    "print(Y)\n",
    "\n",
    "#X and Y matrices\n",
    "print(X_tot.shape)\n",
    "print(Y_tot.shape)"
   ]
  },
  {
   "cell_type": "markdown",
   "metadata": {},
   "source": [
    "## Constructing Train and Test sets"
   ]
  },
  {
   "cell_type": "code",
   "execution_count": 5,
   "metadata": {},
   "outputs": [
    {
     "name": "stdout",
     "output_type": "stream",
     "text": [
      "[  6420 122277 104792 ... 176336  27335  99580]\n"
     ]
    }
   ],
   "source": [
    "from sklearn.utils import shuffle\n",
    "#X, Y = shuffle(X_tot,Y_tot, random_state = 0 )\n",
    "idx = np.arange(0,len(Y_tot))\n",
    "#shuffeling the indexes:\n",
    "np.random.shuffle(idx)\n",
    "print(idx)"
   ]
  },
  {
   "cell_type": "code",
   "execution_count": 6,
   "metadata": {},
   "outputs": [
    {
     "name": "stdout",
     "output_type": "stream",
     "text": [
      "Data shuffled!\n"
     ]
    }
   ],
   "source": [
    "#Now with the shuffled indexes, shuffeling the X_tot and Y_tot matrices \n",
    "X = X_tot[idx]\n",
    "Y = Y_tot[idx]\n",
    "print('Data shuffled!')"
   ]
  },
  {
   "cell_type": "code",
   "execution_count": 7,
   "metadata": {},
   "outputs": [
    {
     "name": "stdout",
     "output_type": "stream",
     "text": [
      "Test sets:\n",
      "X: (134128, 16, 16, 16, 4) Y: (134128, 2)\n",
      "Train sets:\n",
      "X: (57483, 16, 16, 16, 4) Y: (57483, 2)\n"
     ]
    }
   ],
   "source": [
    "from sklearn.model_selection import train_test_split\n",
    "from sklearn.metrics import confusion_matrix\n",
    "\n",
    "#X_train, X_test, Y_train, Y_test = train_test_split(X_tot, Y_tot, test_size = 0.3, random_state=0)\n",
    "\n",
    "#the function takes too long time to work so I should make the sets by hand!\n",
    "\n",
    "train_size = int(0.3*len(Y_tot))\n",
    "\n",
    "#we can make the train and test sets now that the data shuffled only by choosing the first train_size number of them as \n",
    "#train set and others as test set.\n",
    "\n",
    "X_train = X[:train_size]\n",
    "X_test = X[train_size:]\n",
    "\n",
    "Y_train = Y[:train_size]\n",
    "Y_test = Y[train_size:]\n",
    "\n",
    "print('Test sets:')\n",
    "print('X:',X_test.shape, 'Y:', Y_test.shape )\n",
    "\n",
    "print('Train sets:')\n",
    "print('X:',X_train.shape, 'Y:', Y_train.shape )"
   ]
  },
  {
   "cell_type": "code",
   "execution_count": null,
   "metadata": {},
   "outputs": [],
   "source": []
  },
  {
   "cell_type": "code",
   "execution_count": 8,
   "metadata": {},
   "outputs": [],
   "source": [
    "# # savint the train and test sets of X and Y because it took tooooooooooooo long time for producing them.\n",
    "\n",
    "# import h5py\n",
    "\n",
    "# image = h5py.File('train-test-set.h5', 'w')\n",
    "\n",
    "# image.create_dataset('X_train', data=X_train)\n"
   ]
  },
  {
   "cell_type": "code",
   "execution_count": 9,
   "metadata": {},
   "outputs": [],
   "source": [
    "# image.create_dataset('X_test', data=X_test)\n",
    "# print('X entered')"
   ]
  },
  {
   "cell_type": "code",
   "execution_count": 10,
   "metadata": {},
   "outputs": [],
   "source": [
    "# image.create_dataset('Y_train', data=Y_train)\n",
    "\n",
    "# image.create_dataset('Y_test', data=Y_test)\n",
    "\n",
    "# image.close()\n",
    "# print('All made')"
   ]
  },
  {
   "cell_type": "markdown",
   "metadata": {},
   "source": [
    "## Implementing the CNN model"
   ]
  },
  {
   "cell_type": "code",
   "execution_count": 78,
   "metadata": {},
   "outputs": [
    {
     "name": "stdout",
     "output_type": "stream",
     "text": [
      "16 16 16 4\n"
     ]
    }
   ],
   "source": [
    "n_h, n_w, n_l, n_s = X[0].shape\n",
    "print(n_h, n_w, n_l, n_s)\n",
    "\n",
    "## Data needs to be reshaped for the convolution layers. \n",
    "X = X.reshape(-1, n_h, n_w, n_l, n_s)\n",
    "#X_test = X_test.reshape(-1, n_h, n_w, n_l, n_s)\n"
   ]
  },
  {
   "cell_type": "code",
   "execution_count": 103,
   "metadata": {},
   "outputs": [],
   "source": [
    "import tensorflow as tf\n",
    "from tensorflow import keras\n",
    "\n",
    "new_model = keras.models.Sequential()\n",
    "\n",
    "tf.keras.layers.GlobalAveragePooling3D()\n",
    "new_model.add(keras.layers.Conv3D(32, (5,5,5)  , activation = 'sigmoid' , padding = 'same' , input_shape=(n_h, n_w, n_l, n_s)))\n",
    "new_model.add(keras.layers.Conv3D(32, (3,3,1) , padding = 'valid' , activation = 'relu' ))\n",
    "\n",
    "new_model.add(keras.layers.MaxPooling3D((2,2,1) , padding = 'same'))\n",
    "new_model.add(keras.layers.Conv3D(64, (3,3,1) , padding = 'same' , activation = 'relu' ))\n",
    "new_model.add(keras.layers.Conv3D(64, (4,4,1) , padding = 'valid' , activation = 'relu' ))\n",
    "new_model.add(keras.layers.MaxPooling3D((2,2,1) , padding = 'valid'))\n",
    "new_model.add(keras.layers.Dropout(0.25))\n",
    "new_model.add(keras.layers.Flatten())\n",
    "\n",
    "new_model.add(keras.layers.Dense(120 , activation = 'relu'))\n",
    "new_model.add(keras.layers.Dense(60 , activation = 'relu'))\n",
    "new_model.add(keras.layers.Dense(41, activation = 'softmax'))\n",
    "              \n",
    "new_model.compile(optimizer = 'adam' , loss = 'sparse_categorical_crossentropy' , metrics = ['accuracy' ])\n",
    "\n"
   ]
  },
  {
   "cell_type": "code",
   "execution_count": 104,
   "metadata": {},
   "outputs": [
    {
     "name": "stdout",
     "output_type": "stream",
     "text": [
      "Train on 2000 samples, validate on 6000 samples\n",
      "Epoch 1/50\n",
      "2000/2000 [==============================] - 65s 33ms/sample - loss: 3.7064 - accuracy: 0.0335 - val_loss: 3.6042 - val_accuracy: 0.0678\n",
      "Epoch 2/50\n",
      "2000/2000 [==============================] - 64s 32ms/sample - loss: 3.5342 - accuracy: 0.0800 - val_loss: 3.4078 - val_accuracy: 0.1033\n",
      "Epoch 3/50\n",
      "2000/2000 [==============================] - 65s 32ms/sample - loss: 3.3327 - accuracy: 0.1285 - val_loss: 3.2419 - val_accuracy: 0.1610\n",
      "Epoch 4/50\n",
      "2000/2000 [==============================] - 65s 33ms/sample - loss: 3.1359 - accuracy: 0.1880 - val_loss: 3.0334 - val_accuracy: 0.2150\n",
      "Epoch 5/50\n",
      "2000/2000 [==============================] - 64s 32ms/sample - loss: 2.9336 - accuracy: 0.2420 - val_loss: 2.8436 - val_accuracy: 0.2703\n",
      "Epoch 6/50\n",
      "2000/2000 [==============================] - 64s 32ms/sample - loss: 2.6994 - accuracy: 0.2845 - val_loss: 2.6644 - val_accuracy: 0.3107\n",
      "Epoch 7/50\n",
      "2000/2000 [==============================] - 64s 32ms/sample - loss: 2.5000 - accuracy: 0.3425 - val_loss: 2.5072 - val_accuracy: 0.3650\n",
      "Epoch 8/50\n",
      "2000/2000 [==============================] - 65s 33ms/sample - loss: 2.3160 - accuracy: 0.3895 - val_loss: 2.3808 - val_accuracy: 0.3770\n",
      "Epoch 9/50\n",
      "2000/2000 [==============================] - 64s 32ms/sample - loss: 2.1590 - accuracy: 0.4105 - val_loss: 2.2267 - val_accuracy: 0.4158\n",
      "Epoch 10/50\n",
      "2000/2000 [==============================] - 63s 32ms/sample - loss: 1.9934 - accuracy: 0.4605 - val_loss: 2.1097 - val_accuracy: 0.4428\n",
      "Epoch 11/50\n",
      "2000/2000 [==============================] - 82s 41ms/sample - loss: 1.8713 - accuracy: 0.4830 - val_loss: 1.9975 - val_accuracy: 0.4687\n",
      "Epoch 12/50\n",
      "2000/2000 [==============================] - 64s 32ms/sample - loss: 1.7162 - accuracy: 0.5120 - val_loss: 1.9607 - val_accuracy: 0.4798\n",
      "Epoch 13/50\n",
      "2000/2000 [==============================] - 65s 33ms/sample - loss: 1.6076 - accuracy: 0.5455 - val_loss: 1.8820 - val_accuracy: 0.5008\n",
      "Epoch 14/50\n",
      "2000/2000 [==============================] - 64s 32ms/sample - loss: 1.5159 - accuracy: 0.5690 - val_loss: 1.7663 - val_accuracy: 0.5378\n",
      "Epoch 15/50\n",
      "2000/2000 [==============================] - 73s 37ms/sample - loss: 1.3847 - accuracy: 0.6080 - val_loss: 1.7266 - val_accuracy: 0.5525\n",
      "Epoch 16/50\n",
      "2000/2000 [==============================] - 73s 36ms/sample - loss: 1.2730 - accuracy: 0.6430 - val_loss: 1.6561 - val_accuracy: 0.5700\n",
      "Epoch 17/50\n",
      "2000/2000 [==============================] - 66s 33ms/sample - loss: 1.2091 - accuracy: 0.6655 - val_loss: 1.6562 - val_accuracy: 0.5727\n",
      "Epoch 18/50\n",
      "2000/2000 [==============================] - 66s 33ms/sample - loss: 1.1279 - accuracy: 0.6830 - val_loss: 1.5962 - val_accuracy: 0.5860\n",
      "Epoch 19/50\n",
      "2000/2000 [==============================] - 65s 33ms/sample - loss: 1.0372 - accuracy: 0.7120 - val_loss: 1.5510 - val_accuracy: 0.6140\n",
      "Epoch 20/50\n",
      "2000/2000 [==============================] - 65s 33ms/sample - loss: 0.9706 - accuracy: 0.7175 - val_loss: 1.5052 - val_accuracy: 0.6242\n",
      "Epoch 21/50\n",
      "2000/2000 [==============================] - 66s 33ms/sample - loss: 0.8857 - accuracy: 0.7430 - val_loss: 1.4708 - val_accuracy: 0.6387\n",
      "Epoch 22/50\n",
      "2000/2000 [==============================] - 66s 33ms/sample - loss: 0.8035 - accuracy: 0.7705 - val_loss: 1.4647 - val_accuracy: 0.6345\n",
      "Epoch 23/50\n",
      "2000/2000 [==============================] - 65s 33ms/sample - loss: 0.7625 - accuracy: 0.7860 - val_loss: 1.4111 - val_accuracy: 0.6573\n",
      "Epoch 24/50\n",
      "2000/2000 [==============================] - 65s 33ms/sample - loss: 0.6955 - accuracy: 0.7985 - val_loss: 1.4054 - val_accuracy: 0.6598\n",
      "Epoch 25/50\n",
      "2000/2000 [==============================] - 66s 33ms/sample - loss: 0.6340 - accuracy: 0.8180 - val_loss: 1.4273 - val_accuracy: 0.6613\n",
      "Epoch 26/50\n",
      "2000/2000 [==============================] - 65s 33ms/sample - loss: 0.6027 - accuracy: 0.8230 - val_loss: 1.4414 - val_accuracy: 0.6545\n",
      "Epoch 27/50\n",
      "2000/2000 [==============================] - 66s 33ms/sample - loss: 0.5756 - accuracy: 0.8275 - val_loss: 1.3888 - val_accuracy: 0.6760\n",
      "Epoch 28/50\n",
      "2000/2000 [==============================] - 65s 32ms/sample - loss: 0.5111 - accuracy: 0.8520 - val_loss: 1.4314 - val_accuracy: 0.6745\n",
      "Epoch 29/50\n",
      "2000/2000 [==============================] - 66s 33ms/sample - loss: 0.4614 - accuracy: 0.8615 - val_loss: 1.3933 - val_accuracy: 0.6882\n",
      "Epoch 30/50\n",
      "2000/2000 [==============================] - 65s 33ms/sample - loss: 0.4242 - accuracy: 0.8765 - val_loss: 1.3541 - val_accuracy: 0.6942\n",
      "Epoch 31/50\n",
      "2000/2000 [==============================] - 66s 33ms/sample - loss: 0.3952 - accuracy: 0.8810 - val_loss: 1.4085 - val_accuracy: 0.6878\n",
      "Epoch 32/50\n",
      "2000/2000 [==============================] - 66s 33ms/sample - loss: 0.3691 - accuracy: 0.8835 - val_loss: 1.4341 - val_accuracy: 0.6980\n",
      "Epoch 33/50\n",
      "2000/2000 [==============================] - 66s 33ms/sample - loss: 0.3735 - accuracy: 0.8850 - val_loss: 1.4680 - val_accuracy: 0.6897\n",
      "Epoch 34/50\n",
      "2000/2000 [==============================] - 65s 33ms/sample - loss: 0.3533 - accuracy: 0.9010 - val_loss: 1.5012 - val_accuracy: 0.6880\n",
      "Epoch 35/50\n",
      "2000/2000 [==============================] - 66s 33ms/sample - loss: 0.3285 - accuracy: 0.9050 - val_loss: 1.4527 - val_accuracy: 0.7080\n",
      "Epoch 36/50\n",
      "2000/2000 [==============================] - 66s 33ms/sample - loss: 0.2732 - accuracy: 0.9130 - val_loss: 1.4460 - val_accuracy: 0.7057\n",
      "Epoch 37/50\n",
      "2000/2000 [==============================] - 65s 33ms/sample - loss: 0.2317 - accuracy: 0.9265 - val_loss: 1.4684 - val_accuracy: 0.7097\n",
      "Epoch 38/50\n",
      "2000/2000 [==============================] - 65s 32ms/sample - loss: 0.2317 - accuracy: 0.9315 - val_loss: 1.5304 - val_accuracy: 0.7107\n",
      "Epoch 39/50\n",
      "2000/2000 [==============================] - 65s 33ms/sample - loss: 0.2086 - accuracy: 0.9345 - val_loss: 1.5185 - val_accuracy: 0.7152\n",
      "Epoch 40/50\n",
      "2000/2000 [==============================] - 65s 33ms/sample - loss: 0.1940 - accuracy: 0.9415 - val_loss: 1.5841 - val_accuracy: 0.7027\n",
      "Epoch 41/50\n",
      "2000/2000 [==============================] - 65s 32ms/sample - loss: 0.1925 - accuracy: 0.9385 - val_loss: 1.5085 - val_accuracy: 0.7188\n",
      "Epoch 42/50\n",
      "2000/2000 [==============================] - 65s 33ms/sample - loss: 0.1686 - accuracy: 0.9485 - val_loss: 1.5544 - val_accuracy: 0.7177\n",
      "Epoch 43/50\n",
      "2000/2000 [==============================] - 65s 33ms/sample - loss: 0.1799 - accuracy: 0.9440 - val_loss: 1.5383 - val_accuracy: 0.7182\n",
      "Epoch 44/50\n",
      "2000/2000 [==============================] - 65s 33ms/sample - loss: 0.1679 - accuracy: 0.9450 - val_loss: 1.6348 - val_accuracy: 0.7157\n",
      "Epoch 45/50\n",
      "2000/2000 [==============================] - 65s 32ms/sample - loss: 0.1706 - accuracy: 0.9515 - val_loss: 1.6979 - val_accuracy: 0.7040\n",
      "Epoch 46/50\n",
      "2000/2000 [==============================] - 65s 33ms/sample - loss: 0.1505 - accuracy: 0.9590 - val_loss: 1.6180 - val_accuracy: 0.7237\n",
      "Epoch 47/50\n",
      "2000/2000 [==============================] - 65s 32ms/sample - loss: 0.1337 - accuracy: 0.9600 - val_loss: 1.6735 - val_accuracy: 0.7220\n",
      "Epoch 48/50\n",
      "2000/2000 [==============================] - 65s 32ms/sample - loss: 0.1197 - accuracy: 0.9640 - val_loss: 1.6537 - val_accuracy: 0.7263\n",
      "Epoch 49/50\n",
      "2000/2000 [==============================] - 65s 33ms/sample - loss: 0.1201 - accuracy: 0.9635 - val_loss: 1.7131 - val_accuracy: 0.7243\n",
      "Epoch 50/50\n",
      "2000/2000 [==============================] - 65s 33ms/sample - loss: 0.1081 - accuracy: 0.9670 - val_loss: 1.7055 - val_accuracy: 0.7280\n"
     ]
    }
   ],
   "source": [
    "history = new_model.fit(X[:8000] , Y[:8000, 0], epochs = 50 , batch_size = 500, validation_split= .75)"
   ]
  },
  {
   "cell_type": "code",
   "execution_count": null,
   "metadata": {},
   "outputs": [],
   "source": []
  },
  {
   "cell_type": "code",
   "execution_count": 105,
   "metadata": {},
   "outputs": [
    {
     "data": {
      "image/png": "[encoded data removed]",
      "text/plain": [
       "<Figure size 432x288 with 1 Axes>"
      ]
     },
     "metadata": {
      "needs_background": "light"
     },
     "output_type": "display_data"
    }
   ],
   "source": [
    "import matplotlib.pyplot as plt\n",
    "fig = plt.figure()\n",
    "xlabel = 'epoch'\n",
    "ylabel = 'loss'\n",
    "plt_title = 'mean_squared_error vs epoch'\n",
    "ax = fig.add_subplot(111,xlabel = xlabel , ylabel = ylabel , title = plt_title)\n",
    "ax.plot(history.history['loss'] , label ='training')\n",
    "plt.legend()\n",
    "ax.plot(history.history['val_loss'] , label = 'validation')\n",
    "plt.legend()\n",
    "plt.show()"
   ]
  },
  {
   "cell_type": "code",
   "execution_count": 106,
   "metadata": {},
   "outputs": [
    {
     "data": {
      "image/png": "[encoded data removed]",
      "text/plain": [
       "<Figure size 432x288 with 1 Axes>"
      ]
     },
     "metadata": {
      "needs_background": "light"
     },
     "output_type": "display_data"
    }
   ],
   "source": [
    "import matplotlib.pyplot as plt\n",
    "fig = plt.figure()\n",
    "xlabel = 'epoch'\n",
    "ylabel = 'accuracy'\n",
    "plt_title = 'accuracy vs epoch'\n",
    "ax = fig.add_subplot(111,xlabel = xlabel , ylabel = ylabel , title = plt_title)\n",
    "ax.plot(history.history['accuracy'] , label ='training')\n",
    "plt.legend()\n",
    "ax.plot(history.history['val_accuracy'] , label = 'validation')\n",
    "plt.legend()\n",
    "plt.show()"
   ]
  },
  {
   "cell_type": "code",
   "execution_count": 107,
   "metadata": {},
   "outputs": [
    {
     "name": "stdout",
     "output_type": "stream",
     "text": [
      "Model: \"sequential_21\"\n",
      "_________________________________________________________________\n",
      "Layer (type)                 Output Shape              Param #   \n",
      "=================================================================\n",
      "conv3d_76 (Conv3D)           (None, 16, 16, 16, 32)    16032     \n",
      "_________________________________________________________________\n",
      "conv3d_77 (Conv3D)           (None, 14, 14, 16, 32)    9248      \n",
      "_________________________________________________________________\n",
      "max_pooling3d_37 (MaxPooling (None, 7, 7, 16, 32)      0         \n",
      "_________________________________________________________________\n",
      "conv3d_78 (Conv3D)           (None, 7, 7, 16, 64)      18496     \n",
      "_________________________________________________________________\n",
      "conv3d_79 (Conv3D)           (None, 4, 4, 16, 64)      65600     \n",
      "_________________________________________________________________\n",
      "max_pooling3d_38 (MaxPooling (None, 2, 2, 16, 64)      0         \n",
      "_________________________________________________________________\n",
      "dropout_18 (Dropout)         (None, 2, 2, 16, 64)      0         \n",
      "_________________________________________________________________\n",
      "flatten_18 (Flatten)         (None, 4096)              0         \n",
      "_________________________________________________________________\n",
      "dense_54 (Dense)             (None, 120)               491640    \n",
      "_________________________________________________________________\n",
      "dense_55 (Dense)             (None, 60)                7260      \n",
      "_________________________________________________________________\n",
      "dense_56 (Dense)             (None, 41)                2501      \n",
      "=================================================================\n",
      "Total params: 610,777\n",
      "Trainable params: 610,777\n",
      "Non-trainable params: 0\n",
      "_________________________________________________________________\n"
     ]
    }
   ],
   "source": [
    "new_model.summary()"
   ]
  },
  {
   "cell_type": "code",
   "execution_count": 108,
   "metadata": {},
   "outputs": [
    {
     "name": "stdout",
     "output_type": "stream",
     "text": [
      "[[22  0  0  1  0  0  0  0  0  0  0  0  0  0  0  0  0  0  0  0  0  0  0  0\n",
      "   0  0  0  0  0  0  0  0  0  0  0  0  0  0  0  0]\n",
      " [ 0 22  0  0  0  0  0  0  0  0  0  0  0  0  0  0  0  0  1  0  0  0  0  0\n",
      "   0  0  0  0  0  0  0  0  0  0  0  0  0  0  0  0]\n",
      " [ 0  0 25  0  0  0  0  0  0  0  0  0  1  0  0  0  0  0  0  0  0  0  0  0\n",
      "   0  0  0  0  0  0  0  0  2  0  0  0  0  0  0  0]\n",
      " [ 0  0  0 23  0  0  0  0  0  0  0  0  0  0  0  0  0  0  0  0  0  0  0  0\n",
      "   0  0  0  0  0  0  0  0  0  0  0  0  0  0  0  0]\n",
      " [ 0  0  0  0 26  0  0  0  0  0  0  0  0  0  0  0  0  0  0  0  0  0  0  0\n",
      "   0  0  0  0  0  0  0  0  0  0  0  0  0  0  0  0]\n",
      " [ 0  0  0  0  0 23  0  0  0  0  0  0  0  0  0  0  0  0  0  0  0  0  0  0\n",
      "   0  0  0  0  0  0  0  0  0  0  0  0  0  0  0  0]\n",
      " [ 0  0  0  0  0  0 29  0  0  0  0  0  0  0  0  0  0  0  0  0  0  0  0  0\n",
      "   0  0  0  0  0  0  0  0  0  0  0  0  0  0  0  0]\n",
      " [ 0  0  0  0  0  0  0 25  0  0  0  0  1  0  0  0  0  0  0  0  0  0  0  0\n",
      "   0  0  0  0  0  0  0  0  0  0  0  0  0  0  0  0]\n",
      " [ 0  0  0  0  0  0  0  0 24  0  0  0  0  0  0  0  0  0  0  0  0  0  0  0\n",
      "   0  0  0  0  0  0  0  0  0  0  0  0  0  0  0  0]\n",
      " [ 0  0  0  0  0  0  0  0  0 38  0  0  0  0  0  0  0  0  0  0  0  0  0  0\n",
      "   0  0  0  0  0  0  0  0  0  0  0  0  0  0  0  0]\n",
      " [ 0  0  0  0  0  0  0  0  0  0 33  0  0  0  0  0  0  0  0  0  0  0  0  0\n",
      "   0  0  0  0  0  0  0  0  0  0  0  0  0  0  0  0]\n",
      " [ 0  0  0  0  0  0  0  0  0  0  0 21  0  0  0  0  0  0  0  0  0  0  0  0\n",
      "   0  0  0  0  0  0  0  0  0  0  0  0  0  0  0  0]\n",
      " [ 0  0  0  0  0  0  0  0  0  0  0  0 31  0  0  0  0  0  0  0  0  0  0  0\n",
      "   0  0  0  0  0  0  0  0  0  0  0  0  0  0  0  0]\n",
      " [ 0  0  0  0  0  0  0  0  0  0  0  0  0 26  0  0  0  0  0  0  0  0  0  0\n",
      "   0  0  0  0  0  0  0  0  0  0  0  0  0  0  0  0]\n",
      " [ 0  0  0  0  0  0  0  0  0  0  0  0  0  0 27  0  0  0  0  0  0  0  0  0\n",
      "   0  0  0  0  0  0  0  0  0  0  0  0  0  0  0  0]\n",
      " [ 0  0  0  0  0  0  0  0  0  0  0  0  0  0  0 21  0  0  0  0  0  0  0  0\n",
      "   0  0  0  0  0  0  0  0  0  0  0  0  0  0  0  0]\n",
      " [ 0  0  0  0  0  0  0  0  0  0  0  0  0  0  0  0 25  0  0  0  0  0  0  0\n",
      "   0  0  0  0  0  0  0  0  0  0  0  0  0  0  0  0]\n",
      " [ 0  0  0  0  0  0  0  0  0  0  0  0  0  0  0  0  0 34  0  0  0  0  0  0\n",
      "   0  0  0  0  0  0  0  0  0  0  0  0  0  0  0  0]\n",
      " [ 0  0  0  0  0  0  0  0  0  0  0  0  0  0  0  0  0  0 30  0  0  0  0  0\n",
      "   0  0  0  0  0  0  0  0  0  0  0  0  0  0  0  0]\n",
      " [ 0  0  0  0  0  0  0  0  0  0  0  0  0  0  0  0  0  0  0 26  0  0  0  0\n",
      "   0  0  0  0  0  0  0  0  0  0  0  0  0  0  0  0]\n",
      " [ 0  0  0  0  0  0  0  0  0  0  0  0  0  0  0  0  0  0  0  0 21  0  0  0\n",
      "   0  0  0  0  0  0  0  0  0  0  0  0  0  0  0  0]\n",
      " [ 0  0  0  0  0  0  0  0  0  0  0  0  0  0  0  0  0  0  0  0  0 14  0  0\n",
      "   0  0  0  0  0  0  0  0  0  0  0  0  0  0  0  0]\n",
      " [ 0  0  0  0  0  0  0  0  0  0  0  0  0  0  0  0  0  0  0  0  0  0 30  0\n",
      "   0  0  0  0  0  0  0  0  0  0  0  0  0  0  0  0]\n",
      " [ 0  0  0  0  0  0  0  0  0  0  0  0  0  0  0  0  0  0  0  0  0  0  0 26\n",
      "   0  0  0  0  0  0  0  0  0  0  0  0  0  0  0  0]\n",
      " [ 0  0  0  0  0  0  0  0  0  0  0  0  0  0  0  0  0  0  0  0  0  0  0  0\n",
      "  11  0  0  0  0  0  0  0  0  0  0  0  0  0  0  0]\n",
      " [ 0  0  0  0  0  0  0  0  0  0  0  0  0  0  0  0  0  0  0  0  0  0  0  0\n",
      "   0 21  0  0  0  0  0  0  0  0  0  0  0  0  0  0]\n",
      " [ 0  0  0  0  0  0  0  0  0  0  0  0  0  0  0  0  0  0  0  0  0  0  0  0\n",
      "   0  0 20  0  0  0  0  0  0  0  0  0  0  0  0  0]\n",
      " [ 0  0  0  0  0  0  0  0  0  0  0  0  0  0  0  0  0  0  0  0  0  0  0  0\n",
      "   0  0  0 21  0  0  0  0  0  0  0  0  0  0  0  0]\n",
      " [ 0  0  0  0  0  0  0  0  0  0  0  0  0  0  0  0  0  0  0  0  0  0  0  0\n",
      "   0  0  0  0 32  0  0  0  0  0  0  0  0  0  0  0]\n",
      " [ 0  0  0  0  0  0  0  0  0  0  0  0  0  0  0  0  0  0  0  0  0  0  0  0\n",
      "   0  0  0  0  0 31  0  0  0  0  0  0  0  0  0  0]\n",
      " [ 0  0  0  0  0  0  0  0  0  0  0  0  0  0  0  0  0  0  0  0  0  0  0  0\n",
      "   0  0  0  0  0  0 26  0  0  0  0  0  0  0  0  0]\n",
      " [ 0  0  0  0  0  0  0  0  0  0  0  0  0  0  0  0  0  0  0  0  0  0  0  0\n",
      "   0  0  0  0  0  0  0 25  0  0  0  0  0  0  0  0]\n",
      " [ 0  0  0  0  0  0  0  0  0  0  0  0  0  0  0  0  0  0  0  0  0  0  0  0\n",
      "   0  0  0  0  0  0  0  0 14  0  0  0  0  0  0  0]\n",
      " [ 0  0  0  0  0  0  0  0  0  0  0  0  0  0  0  0  0  0  0  0  0  0  0  0\n",
      "   0  0  0  0  0  0  0  0  0 26  0  0  0  0  0  0]\n",
      " [ 0  0  0  0  0  0  0  0  0  0  0  0  0  0  0  0  0  0  0  0  0  0  0  0\n",
      "   0  0  0  0  0  0  0  0  0  0 24  0  0  0  0  0]\n",
      " [ 0  0  0  0  0  0  0  0  0  0  0  0  0  0  0  0  0  0  0  0  0  0  0  0\n",
      "   0  0  0  0  0  0  0  0  0  0  0 29  0  0  0  0]\n",
      " [ 0  0  0  0  0  0  0  0  0  0  0  0  0  0  0  0  0  0  0  0  0  0  0  0\n",
      "   0  0  0  0  0  0  0  0  0  0  0  0 21  0  0  0]\n",
      " [ 0  0  0  0  0  0  0  0  0  0  0  0  0  0  0  0  0  0  0  0  0  0  0  0\n",
      "   0  0  0  0  0  0  0  0  0  0  0  0  0 26  0  0]\n",
      " [ 0  0  0  0  0  0  0  0  0  0  0  0  0  2  0  0  0  0  0  0  0  0  0  0\n",
      "   0  0  0  0  0  0  0  0  0  0  0  0  0  0 21  0]\n",
      " [ 0  0  0  0  0  0  0  0  0  0  0  0  0  0  0  0  0  0  0  0  0  0  0  0\n",
      "   0  0  0  0  0  0  0  0  0  0  0  0  0  0  0 22]]\n"
     ]
    }
   ],
   "source": [
    "#Confusion matrix on the data which we applied training:\n",
    "import sys\n",
    "np.set_printoptions(threshold=sys.maxsize)\n",
    "\n",
    "Y_predicted = np.argmax( new_model.predict(X[:1000]) , axis=1 )\n",
    "cm = confusion_matrix(Y[:1000,0], Y_predicted)\n",
    "print(cm)"
   ]
  },
  {
   "cell_type": "code",
   "execution_count": 114,
   "metadata": {},
   "outputs": [
    {
     "name": "stdout",
     "output_type": "stream",
     "text": [
      "[[13  5  4  4  6  3  2  4  0  0  2  1  1  1  0  1  1  0  0  0  0  0  1  0\n",
      "   0  0  0  1  0  1  1  0  0  2  0  1  0  0  0  0]\n",
      " [ 1 15  1  6  4  2  1  1  3  0  1  0  2  1  0  0  0  3  1  0  0  0  2  0\n",
      "   0  0  0  0  1  1  0  2  0  0  0  1  0  0  0  5]\n",
      " [ 2  0 25  0  1  2  3  2  3  2  0  1  1  0  1  1  0  0  1  0  0  0  1  0\n",
      "   0  0  0  0  0  2  1  0  0  0  0  0  0  0  0  0]\n",
      " [ 2  0  5 10  1  1  1  0  0  1  0  0  1  0  2  1  0  1  1  0  0  0  0  0\n",
      "   0  0  0  1  3  2  0  0  1  0  1  0  0  0  0  2]\n",
      " [ 1  1  1  1 27  1  4  0  0 10  3  1  1  1  5  2  2  0  0  0  1  0  0  0\n",
      "   0  0  0  0  0  0  0  0  0  1  0  2  0  0  0  3]\n",
      " [ 6  0  4  3  0 18  0  0  1  0  0  0  2  1  0  0  3  3  1  0  0  0  0  0\n",
      "   2  2  1  0  0  0  0  0  0  2  1  2  0  0  0  3]\n",
      " [ 0  0  0  0  1  3 19  0  0  0  0  0  2  0  4  1  0  0  0  0  0  0  1  0\n",
      "   0  0  0  0  0  0  2  0  0  1  0  4  0  0  0  0]\n",
      " [ 1  4  1  1  0  0  0 31  0  3  0  0  0  1  1  0  0  1  0  0  1  0  2  0\n",
      "   0  0  0  0  1  0  4  0  2  0  2  0  0  0  0  0]\n",
      " [ 0  1  5  0  8  0  0  0 34  1  0  0  3  0  0  0  2  0  0  1  0  0  1  0\n",
      "   0  0  0  0  0  0  0  0  0  0  0  0  0  0  0  0]\n",
      " [ 1  1  5  0  1  0  0  2  0 30  0  0  0  0  0  1  1  0  0  0  0  0  0  0\n",
      "   0  0  4  1  0  0  0  0  0  0  0  0  0  0  0  4]\n",
      " [ 3  1  0  0  1  0  1  0  1  0 29  0  1  1  0  0  0  0  0  0  2  0  0  0\n",
      "   0  0  0  0  0  0  0  1  0  0  0  0  0  0  0  1]\n",
      " [ 0  0  0  1  1  0  0  0  0  0  0 41  1  5  0  0  0  0  0  0  0  0  0  0\n",
      "   0  0  0  0  0  0  0  0  0  0  3  0  0  0  0  0]\n",
      " [ 0  0  0  1  0  2  1  0  0  4  0  0 34  0  1  0  0  0  1  0  0  0  0  0\n",
      "   0  0  0  0  0  0  0  0  1  0  0  0  0  0  0  3]\n",
      " [ 0  0  0  0  0  0  0  0  0  0  0  0  1 41  0  0  0  0  0  0  0  0  0  0\n",
      "   1  0  0  0  0  0  2  0  0  0  0  0  0  0  7  0]\n",
      " [ 0  2  1  0  0  0  0  0  0  0  0  0  0  0 40  1  0  1  0  0  0  0  0  0\n",
      "   0  0  0  0  0  0  0  0  0  0  0  0  0  0  0  0]\n",
      " [ 0  0  1  1  0  0  1  0  1  0  0  0  0  0  0 41  0  1  0  1  2  0  0  0\n",
      "   0  0  0  0  0  1  0  4  0  2  0  0  0  0  0  0]\n",
      " [ 0  0  0  0  0  0  0  1  0  0  0  0  0  0  0  0 34  0  0  0  0  0  0  0\n",
      "   0  0  0  0  0  0  0  0  0  0  0  0  0  0  0  1]\n",
      " [ 0  0  2  2  1  0  0  0  0  0  1  0  0  0  0  1  0 41  0  0  0  0  1  0\n",
      "   0  0  5  0  0  0  0  0  0  0  0  0  0  0  0  4]\n",
      " [ 0  0  0  2  0  0  0  0  0  0  0  0  0  0  0  0  2  3 43  0  0  0  0  0\n",
      "   0  0  0  0  0  0  0  0  0  0  0  0  0  0  0  1]\n",
      " [ 0  0  1  2  2  0  1  0  1  0  0  1  2  0  0  0  0  0  0 46  0  0  0  0\n",
      "   0  0  0  0  0  0  0  0  0  0  0  0  0  0  0  1]\n",
      " [ 0  0  0  0  0  0  0  0  0  0  0  0  2  0  0  0  0  0  0  0 55  0  0  0\n",
      "   0  0  0  0  0  0  0  0  0  0  0  0  0  0  0  0]\n",
      " [ 0  0  0  0  0  0  0  0  0  0  0  0  0  0  0  0  0  0  0  0  0 26  0  0\n",
      "   0  0  0  0  0  0  0  0  0  0  0  0  0  0  0  0]\n",
      " [ 0  0  1  0  0  0  0  0  3  0  0  0  1  0  2  0  0  0  0  1  0  0 54  0\n",
      "   0  0  0  0  0  0  0  0  0  0  0  0  0  0  0  0]\n",
      " [ 0  0  0  0  0  0  0  0  0  0  0  0  0  0  0  0  0  0  0  0  0  0  0 45\n",
      "   0  0  0  0  0  0  0  0  0  0  0  0  0  0  0  0]\n",
      " [ 1  0  0  0  0  0  0  0  0  0  0  0  1  1  0  0  0  0  0  0  1  0  0  0\n",
      "  14  0  0  0  0  0  0  0  0  0  0  0  0  0  0  0]\n",
      " [ 0  0  0  0  0  0  0  0  0  0  0  0  0  0  0  0  1  0  0  0  0  0  0  0\n",
      "   0 48  0  0  0  0  0  0  0  0  0  0  0  0  0  0]\n",
      " [ 0  0  0  1  0  0  0  1  0  0  0  0  0  0  0  0  4  0  0  0  0  0  0  0\n",
      "   0  0 55  0  0  0  0  0  0  0  0  0  0  0  0  0]\n",
      " [ 0  0  0  0  0  0  0  0  0  0  0  0  0  0  0  0  0  0  0  0  0  0  0  0\n",
      "   0  0  0 44  0  0  0  0  0  0  0  0  0  0  0  0]\n",
      " [ 0  0  0  2  1  0  0  2  1  0  0  0  0  0  0  0  0  0  1  0  0  0  0  0\n",
      "   0  0  0  0 41  0  2  1  0  0  0  0  0  0  0  0]\n",
      " [ 0  0  0  0  0  0  0  0  0  0  0  0  0  0  0  0  0  2  0  0  0  0  0  0\n",
      "   0  0  0  0  0 43  0  0  0  0  0  0  0  0  0  2]\n",
      " [ 0  1  0  0  0  0  0  2  1  0  0  0  0  3  0  0  0  0  0  0  0  0  0  0\n",
      "   0  0  0  0  0  0 48  0  0  0  0  0  0  0  0  0]\n",
      " [ 0  0  0  0  0  0  1  0  0  0  0  0  0  0  0  0  0  0  0  0  0  0  0  0\n",
      "   0  0  0  0  0  0  0 50  0  0  0  0  0  0  0  0]\n",
      " [ 0  0  0  0  0  0  0  0  0  0  0  0  0  0  0  0  0  0  0  0  0  0  0  0\n",
      "   0  0  0  0  0  0  0  0 45  0  0  0  0  0  0  0]\n",
      " [ 1  0  0  0  1  1  1  1  0  0  1  0  0  0  0  0  0  0  0  0  1  0  1  1\n",
      "   0  0  0  0  0  0  0  0  0 31  2  0  0  0  0  2]\n",
      " [ 2  0  1  0  1  1  0  0  0  2  0  0  3  0  0  0  0  0  0  0  0  0  2  0\n",
      "   0  0  0  0  1  0  0  0  0  0 35  0  0  0  0  0]\n",
      " [ 0  0  0  0  0  0  1  0  0  4  0  0  0  0  0  0  0  0  0  0  0  0  0  0\n",
      "   0  0  0  0  0  0  0  0  0  0  0 60  0  0  0  0]\n",
      " [ 0  1  1  0  0  4  0  0  1  0  1  0  1  0  0  3  0  0  1  0  0  0  0  0\n",
      "   0  0  0  0  0  0  0  0  0  0  0  0 30  0  0  0]\n",
      " [ 0  0  0  0  0  0  0  0  0  0  0  0  0  0  0  0  0  0  0  0  0  0  0  0\n",
      "   0  0  0  0  0  0  0  0  0  0  0  0  0 57  0  0]\n",
      " [ 0  0  2  0  0  0  0  1  0  1  0  0  0  7  0  0  0  0  0  0  0  0  0  0\n",
      "   0  0  0  0  0  0  0  0  1  0  0  0  0  0 35  0]\n",
      " [ 0  1  4  2  4  1  0  5  0  5  2  0  2  3  2  1  4  0  1  0  0  1  2  0\n",
      "   1  0  3  0  1  3  4  0  0  1  0  0  0  0  0 16]]\n"
     ]
    }
   ],
   "source": [
    "#Confusion matrix on new data\n",
    "Y_predicted1 = np.argmax( new_model.predict(X[8000:10000]) , axis=1 )\n",
    "cm = confusion_matrix(Y[8000:10000,0], Y_predicted1)\n",
    "print(cm)"
   ]
  },
  {
   "cell_type": "code",
   "execution_count": 115,
   "metadata": {},
   "outputs": [
    {
     "name": "stdout",
     "output_type": "stream",
     "text": [
      "Accuracy is: 99.2\n"
     ]
    }
   ],
   "source": [
    "from sklearn.metrics import accuracy_score\n",
    "a = accuracy_score( Y_predicted,Y[:1000,0])\n",
    "print('Accuracy on train set is:', a*100)"
   ]
  },
  {
   "cell_type": "code",
   "execution_count": 116,
   "metadata": {},
   "outputs": [
    {
     "name": "stdout",
     "output_type": "stream",
     "text": [
      "Accuracy on test set is: 72.2\n"
     ]
    }
   ],
   "source": [
    "a = accuracy_score( Y_predicted1,Y[8000:10000,0])\n",
    "print('Accuracy on test set is:', a*100)"
   ]
  },
  {
   "cell_type": "code",
   "execution_count": null,
   "metadata": {},
   "outputs": [],
   "source": []
  },
  {
   "cell_type": "code",
   "execution_count": null,
   "metadata": {},
   "outputs": [],
   "source": []
  }
 ],
 "metadata": {
  "kernelspec": {
   "display_name": "Python 3",
   "language": "python",
   "name": "python3"
  },
  "language_info": {
   "codemirror_mode": {
    "name": "ipython",
    "version": 3
   },
   "file_extension": ".py",
   "mimetype": "text/x-python",
   "name": "python",
   "nbconvert_exporter": "python",
   "pygments_lexer": "ipython3",
   "version": "3.7.3"
  }
 },
 "nbformat": 4,
 "nbformat_minor": 2
}
