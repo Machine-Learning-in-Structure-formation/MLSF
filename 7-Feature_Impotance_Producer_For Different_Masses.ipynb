{
 "cells": [
  {
   "cell_type": "code",
   "execution_count": 1,
   "metadata": {},
   "outputs": [
    {
     "name": "stdout",
     "output_type": "stream",
     "text": [
      "Created `%t` as an alias for `%timeit`.\n",
      "Created `%%t` as an alias for `%%timeit`.\n"
     ]
    }
   ],
   "source": [
    "import numpy as np\n",
    "import pandas as pd\n",
    "import timeit\n",
    "import matplotlib.pyplot as plt\n",
    "\n",
    "%alias_magic t timeit\n",
    "\n",
    "# import warnings filter\n",
    "from warnings import simplefilter\n",
    "# ignore all future warnings\n",
    "simplefilter(action='ignore', category=FutureWarning)"
   ]
  },
  {
   "cell_type": "markdown",
   "metadata": {},
   "source": [
    "# Data\n",
    "\n",
    "Importing our data, Including X and Y matrices.\n",
    "\n",
    "Density contrust for 25 cutt-off radius for each particle: \n",
    "\n",
    "X = $(\\delta(rc=0.3),\n",
    "      \\delta(rc=1.5),\n",
    "      ...,\n",
    "      \\delta(rc=5.1)\n",
    "      $\n",
    "\n",
    "Being in (1) or out (0) of a halo with mass greater than $M_c$ in 0 redshift:\n",
    "\n",
    "Y = 0 or 1\n",
    "\n",
    "\n",
    "We have repeated runing this code for 20 $M_c$s in range 1600, 2600, 3600, ..., 20600 (in uints of particles' mass) and obtained features impotance histogram for all of them.\n",
    "The most important feature and the boundary between in and out halo particles versus the feature is notable for us as $\\delta_c$ the critical density contrast which is measured in a special $r_c$ for each $M_c$. "
   ]
  },
  {
   "cell_type": "code",
   "execution_count": 41,
   "metadata": {},
   "outputs": [
    {
     "data": {
      "text/html": [
       "<div>\n",
       "<style scoped>\n",
       "    .dataframe tbody tr th:only-of-type {\n",
       "        vertical-align: middle;\n",
       "    }\n",
       "\n",
       "    .dataframe tbody tr th {\n",
       "        vertical-align: top;\n",
       "    }\n",
       "\n",
       "    .dataframe thead th {\n",
       "        text-align: right;\n",
       "    }\n",
       "</style>\n",
       "<table border=\"1\" class=\"dataframe\">\n",
       "  <thead>\n",
       "    <tr style=\"text-align: right;\">\n",
       "      <th></th>\n",
       "      <th>Unnamed: 0</th>\n",
       "      <th>id</th>\n",
       "      <th>rc=0.3</th>\n",
       "      <th>rc=0.5</th>\n",
       "      <th>rc=0.7</th>\n",
       "      <th>rc=0.9</th>\n",
       "      <th>rc=1.1</th>\n",
       "      <th>rc=1.3</th>\n",
       "      <th>rc=1.5</th>\n",
       "      <th>rc=1.7</th>\n",
       "      <th>...</th>\n",
       "      <th>rc=3.5</th>\n",
       "      <th>rc=3.7</th>\n",
       "      <th>rc=3.9</th>\n",
       "      <th>rc=4.1</th>\n",
       "      <th>rc=4.3</th>\n",
       "      <th>rc=4.5</th>\n",
       "      <th>rc=4.7</th>\n",
       "      <th>rc=4.9</th>\n",
       "      <th>rc=5.1</th>\n",
       "      <th>In_halo</th>\n",
       "    </tr>\n",
       "  </thead>\n",
       "  <tbody>\n",
       "    <tr>\n",
       "      <th>0</th>\n",
       "      <td>0</td>\n",
       "      <td>8154682</td>\n",
       "      <td>2.711765</td>\n",
       "      <td>2.378432</td>\n",
       "      <td>4.655400</td>\n",
       "      <td>4.254975</td>\n",
       "      <td>2.492632</td>\n",
       "      <td>2.275564</td>\n",
       "      <td>1.822876</td>\n",
       "      <td>1.787347</td>\n",
       "      <td>...</td>\n",
       "      <td>1.314292</td>\n",
       "      <td>1.236861</td>\n",
       "      <td>1.192438</td>\n",
       "      <td>1.135081</td>\n",
       "      <td>1.103940</td>\n",
       "      <td>1.051957</td>\n",
       "      <td>1.024599</td>\n",
       "      <td>1.022772</td>\n",
       "      <td>0.991085</td>\n",
       "      <td>0</td>\n",
       "    </tr>\n",
       "    <tr>\n",
       "      <th>1</th>\n",
       "      <td>1</td>\n",
       "      <td>1354605</td>\n",
       "      <td>-1.917864</td>\n",
       "      <td>-1.621568</td>\n",
       "      <td>1.011085</td>\n",
       "      <td>0.825620</td>\n",
       "      <td>0.896088</td>\n",
       "      <td>0.454900</td>\n",
       "      <td>0.452506</td>\n",
       "      <td>0.540655</td>\n",
       "      <td>...</td>\n",
       "      <td>0.186012</td>\n",
       "      <td>0.104154</td>\n",
       "      <td>0.081917</td>\n",
       "      <td>0.012419</td>\n",
       "      <td>-0.009169</td>\n",
       "      <td>-0.008399</td>\n",
       "      <td>-0.104727</td>\n",
       "      <td>-0.067335</td>\n",
       "      <td>-0.076566</td>\n",
       "      <td>0</td>\n",
       "    </tr>\n",
       "    <tr>\n",
       "      <th>2</th>\n",
       "      <td>2</td>\n",
       "      <td>6607073</td>\n",
       "      <td>-6.547494</td>\n",
       "      <td>-0.621568</td>\n",
       "      <td>2.104380</td>\n",
       "      <td>2.540298</td>\n",
       "      <td>2.210889</td>\n",
       "      <td>2.901418</td>\n",
       "      <td>2.119173</td>\n",
       "      <td>2.168988</td>\n",
       "      <td>...</td>\n",
       "      <td>0.725371</td>\n",
       "      <td>0.469384</td>\n",
       "      <td>0.461222</td>\n",
       "      <td>0.389662</td>\n",
       "      <td>0.335140</td>\n",
       "      <td>0.371573</td>\n",
       "      <td>0.323887</td>\n",
       "      <td>0.242910</td>\n",
       "      <td>0.215553</td>\n",
       "      <td>0</td>\n",
       "    </tr>\n",
       "    <tr>\n",
       "      <th>3</th>\n",
       "      <td>3</td>\n",
       "      <td>13741884</td>\n",
       "      <td>11.971025</td>\n",
       "      <td>-0.621568</td>\n",
       "      <td>-0.082209</td>\n",
       "      <td>0.139749</td>\n",
       "      <td>0.332602</td>\n",
       "      <td>-0.569224</td>\n",
       "      <td>0.082136</td>\n",
       "      <td>-0.171741</td>\n",
       "      <td>...</td>\n",
       "      <td>-0.003492</td>\n",
       "      <td>-0.014299</td>\n",
       "      <td>-0.092985</td>\n",
       "      <td>-0.141743</td>\n",
       "      <td>-0.226131</td>\n",
       "      <td>-0.193584</td>\n",
       "      <td>-0.258835</td>\n",
       "      <td>-0.243707</td>\n",
       "      <td>-0.237704</td>\n",
       "      <td>0</td>\n",
       "    </tr>\n",
       "    <tr>\n",
       "      <th>4</th>\n",
       "      <td>4</td>\n",
       "      <td>3754460</td>\n",
       "      <td>7.341395</td>\n",
       "      <td>6.378432</td>\n",
       "      <td>-0.082209</td>\n",
       "      <td>0.311217</td>\n",
       "      <td>-0.230884</td>\n",
       "      <td>-0.000266</td>\n",
       "      <td>0.267321</td>\n",
       "      <td>0.133571</td>\n",
       "      <td>...</td>\n",
       "      <td>0.215167</td>\n",
       "      <td>0.195462</td>\n",
       "      <td>0.202030</td>\n",
       "      <td>0.119425</td>\n",
       "      <td>0.174777</td>\n",
       "      <td>0.143864</td>\n",
       "      <td>0.124028</td>\n",
       "      <td>0.121787</td>\n",
       "      <td>0.095879</td>\n",
       "      <td>0</td>\n",
       "    </tr>\n",
       "  </tbody>\n",
       "</table>\n",
       "<p>5 rows × 28 columns</p>\n",
       "</div>"
      ],
      "text/plain": [
       "   Unnamed: 0        id     rc=0.3    rc=0.5    rc=0.7    rc=0.9    rc=1.1  \\\n",
       "0           0   8154682   2.711765  2.378432  4.655400  4.254975  2.492632   \n",
       "1           1   1354605  -1.917864 -1.621568  1.011085  0.825620  0.896088   \n",
       "2           2   6607073  -6.547494 -0.621568  2.104380  2.540298  2.210889   \n",
       "3           3  13741884  11.971025 -0.621568 -0.082209  0.139749  0.332602   \n",
       "4           4   3754460   7.341395  6.378432 -0.082209  0.311217 -0.230884   \n",
       "\n",
       "     rc=1.3    rc=1.5    rc=1.7  ...    rc=3.5    rc=3.7    rc=3.9    rc=4.1  \\\n",
       "0  2.275564  1.822876  1.787347  ...  1.314292  1.236861  1.192438  1.135081   \n",
       "1  0.454900  0.452506  0.540655  ...  0.186012  0.104154  0.081917  0.012419   \n",
       "2  2.901418  2.119173  2.168988  ...  0.725371  0.469384  0.461222  0.389662   \n",
       "3 -0.569224  0.082136 -0.171741  ... -0.003492 -0.014299 -0.092985 -0.141743   \n",
       "4 -0.000266  0.267321  0.133571  ...  0.215167  0.195462  0.202030  0.119425   \n",
       "\n",
       "     rc=4.3    rc=4.5    rc=4.7    rc=4.9    rc=5.1  In_halo  \n",
       "0  1.103940  1.051957  1.024599  1.022772  0.991085        0  \n",
       "1 -0.009169 -0.008399 -0.104727 -0.067335 -0.076566        0  \n",
       "2  0.335140  0.371573  0.323887  0.242910  0.215553        0  \n",
       "3 -0.226131 -0.193584 -0.258835 -0.243707 -0.237704        0  \n",
       "4  0.174777  0.143864  0.124028  0.121787  0.095879        0  \n",
       "\n",
       "[5 rows x 28 columns]"
      ]
     },
     "execution_count": 41,
     "metadata": {},
     "output_type": "execute_result"
    }
   ],
   "source": [
    "data = pd.read_csv(r\"C:\\Users\\Asus\\Desktop\\Universe\\06Semester\\Machine Learning\\Thresholds\\particles_information_11600.csv\")\n",
    "data.head()"
   ]
  },
  {
   "cell_type": "code",
   "execution_count": 42,
   "metadata": {},
   "outputs": [
    {
     "name": "stdout",
     "output_type": "stream",
     "text": [
      "          rc=0.3    rc=0.5    rc=0.7    rc=0.9    rc=1.1    rc=1.3    rc=1.5  \\\n",
      "0       2.711765  2.378432  4.655400  4.254975  2.492632  2.275564  1.822876   \n",
      "1      -1.917864 -1.621568  1.011085  0.825620  0.896088  0.454900  0.452506   \n",
      "2      -6.547494 -0.621568  2.104380  2.540298  2.210889  2.901418  2.119173   \n",
      "3      11.971025 -0.621568 -0.082209  0.139749  0.332602 -0.569224  0.082136   \n",
      "4       7.341395  6.378432 -0.082209  0.311217 -0.230884 -0.000266  0.267321   \n",
      "...          ...       ...       ...       ...       ...       ...       ...   \n",
      "59995   2.711765  6.378432  5.019831  4.083507  3.995261  3.185897  2.971025   \n",
      "59996  -6.547494  3.378432  1.011085  1.854427  1.647403  0.966962  1.526580   \n",
      "59997   7.341395  4.378432  1.375517 -0.717590 -2.672657 -2.276097 -2.251198   \n",
      "59998   7.341395 -4.621568  1.011085  2.025894  0.614345  0.284213  0.971025   \n",
      "59999   2.711765 -2.621568 -1.904367 -4.318413 -2.672657 -2.276097 -2.214161   \n",
      "\n",
      "         rc=1.7    rc=1.9    rc=2.1  ...    rc=3.3    rc=3.5    rc=3.7  \\\n",
      "0      1.787347  1.697283  1.685958  ...  1.341311  1.314292  1.236861   \n",
      "1      0.540655  0.294017  0.349709  ...  0.283905  0.186012  0.104154   \n",
      "2      2.168988  1.824853  1.645466  ...  0.896088  0.725371  0.469384   \n",
      "3     -0.171741 -0.343831 -0.163194  ... -0.056969 -0.003492 -0.014299   \n",
      "4      0.133571  0.385139  0.511679  ...  0.273471  0.215167  0.195462   \n",
      "...         ...       ...       ...  ...       ...       ...       ...   \n",
      "59995  2.525186  2.644943  2.536298  ...  1.995234  1.935283  1.801980   \n",
      "59996  1.176722  1.478592  1.119065  ...  1.459574  1.343447  1.293620   \n",
      "59997 -2.512470 -2.694757 -2.498255  ... -2.519612 -2.370839 -2.195808   \n",
      "59998  1.634691  1.861301  1.564481  ...  0.638693  0.626245  0.538482   \n",
      "59999 -1.850959 -1.710648 -1.755895  ... -0.491757 -0.560344 -0.411610   \n",
      "\n",
      "         rc=3.9    rc=4.1    rc=4.3    rc=4.5    rc=4.7    rc=4.9    rc=5.1  \n",
      "0      1.192438  1.135081  1.103940  1.051957  1.024599  1.022772  0.991085  \n",
      "1      0.081917  0.012419 -0.009169 -0.008399 -0.104727 -0.067335 -0.076566  \n",
      "2      0.461222  0.389662  0.335140  0.371573  0.323887  0.242910  0.215553  \n",
      "3     -0.092985 -0.141743 -0.226131 -0.193584 -0.258835 -0.243707 -0.237704  \n",
      "4      0.202030  0.119425  0.174777  0.143864  0.124028  0.121787  0.095879  \n",
      "...         ...       ...       ...       ...       ...       ...       ...  \n",
      "59995  1.664462  1.584871  1.416806  1.390778  1.279841  1.283081  1.238916  \n",
      "59996  1.293586  1.191305  1.152678  1.056073  1.078778  1.007898  1.012758  \n",
      "59997 -2.065372 -1.989874 -1.847058 -1.765601 -1.720457 -1.593059 -1.529627  \n",
      "59998  0.465436  0.561961  0.542669  0.545785  0.464752  0.456469  0.404018  \n",
      "59999 -0.432253 -0.370266 -0.292163 -0.312926 -0.294954 -0.271331 -0.232050  \n",
      "\n",
      "[60000 rows x 25 columns]\n",
      "0        0\n",
      "1        0\n",
      "2        0\n",
      "3        0\n",
      "4        0\n",
      "        ..\n",
      "59995    1\n",
      "59996    0\n",
      "59997    0\n",
      "59998    0\n",
      "59999    0\n",
      "Name: In_halo, Length: 60000, dtype: int64\n",
      "45000\n",
      "15000\n",
      "60000 1500000\n"
     ]
    }
   ],
   "source": [
    "Y, X = data.loc[:, 'In_halo'], data.iloc[:, 2:27]\n",
    "print(X)\n",
    "print(Y)\n",
    "from sklearn.model_selection import train_test_split\n",
    "X_train, X_test, Y_train, Y_test  = train_test_split(X, Y, random_state = 0) #, test_size = 0.3\n",
    "\n",
    "print(len(X_train))\n",
    "print(len(X_test))\n",
    "print(len(Y), np.size(X))"
   ]
  },
  {
   "cell_type": "code",
   "execution_count": 43,
   "metadata": {},
   "outputs": [],
   "source": [
    "#converting the dataframes to numpy arrays\n",
    "\n",
    "X_test = np.array(X_test)\n",
    "X_train = np.array(X_train)\n",
    "Y_test = np.array(Y_test)\n",
    "Y_train = np.array(Y_train)\n",
    "X = np.array(X)\n",
    "Y = np.array(Y)"
   ]
  },
  {
   "cell_type": "markdown",
   "metadata": {},
   "source": [
    "# Training Model\n",
    "\n",
    "## Random Forests"
   ]
  },
  {
   "cell_type": "markdown",
   "metadata": {},
   "source": [
    "## Fine Tuning the model:\n",
    "\n",
    "We should fine tune our model to get the best estimation for this purpose we need to find our hyperparameters.\n",
    "\n",
    "Important hyperparameters of random forests includes:\n",
    "\n",
    "n_estimators = number of trees in the foreset\n",
    "\n",
    "max_features = max number of features considered for splitting a node\n",
    "\n",
    "max_depth = max number of levels in each decision tree\n",
    "\n",
    "min_samples_split = min number of data points placed in a node before the node is split\n",
    "\n",
    "min_samples_leaf = min number of data points allowed in a leaf node\n",
    "\n",
    "bootstrap = method for sampling data points (with or without replacement)\n",
    "\n",
    "As the number of hyperparamethers are quite high we cannot find the optimal value of them by traditional method of validation curve, so for this case we can use the grid search methods.\n",
    "\n",
    "We have used Random Hyperparameter Grid Search to find the best parameters.\n",
    "This is important that we didn't changed these parameters for each $M_c$.\n"
   ]
  },
  {
   "cell_type": "code",
   "execution_count": 44,
   "metadata": {},
   "outputs": [
    {
     "name": "stdout",
     "output_type": "stream",
     "text": [
      "35000\n",
      "25000\n",
      "60000\n"
     ]
    }
   ],
   "source": [
    "X_train, X_test, Y_train, Y_test  = train_test_split(X, Y , train_size = 35000 , random_state= 0)\n",
    "\n",
    "print(len(X_train))\n",
    "print(len(X_test))\n",
    "print(len(Y))\n",
    "\n",
    "X_test = np.array(X_test)\n",
    "X_train = np.array(X_train)\n",
    "Y_test = np.array(Y_test)\n",
    "Y_train = np.array(Y_train)\n",
    "X = np.array(X)\n",
    "Y = np.array(Y)"
   ]
  },
  {
   "cell_type": "code",
   "execution_count": 45,
   "metadata": {},
   "outputs": [
    {
     "name": "stdout",
     "output_type": "stream",
     "text": [
      "2min 22s ± 2.52 s per loop (mean ± std. dev. of 7 runs, 1 loop each)\n",
      "6.16 s ± 62.1 ms per loop (mean ± std. dev. of 7 runs, 1 loop each)\n",
      "25000\n",
      "5374\n"
     ]
    }
   ],
   "source": [
    "from sklearn.ensemble import RandomForestClassifier\n",
    "\n",
    "classifier = RandomForestClassifier(n_estimators = 1000, min_samples_split = 10, min_samples_leaf = 4, \n",
    "                                    max_features = 'sqrt', max_depth = 10, bootstrap = True, random_state=0)\n",
    "\n",
    "%t classifier.fit(X_train , Y_train)\n",
    "\n",
    "#Testing the classification on the test sample\n",
    "Y_predict_rf = classifier.predict(X_test)\n",
    "%t Y_predict_rf = classifier.predict(X_test)\n",
    "print(len(Y_test))\n",
    "print(len(Y_predict_rf[Y_predict_rf == 1]))"
   ]
  },
  {
   "cell_type": "code",
   "execution_count": 46,
   "metadata": {},
   "outputs": [
    {
     "name": "stdout",
     "output_type": "stream",
     "text": [
      "              precision    recall  f1-score   support\n",
      "\n",
      "           0       0.85      0.92      0.88     18074\n",
      "           1       0.73      0.57      0.64      6926\n",
      "\n",
      "    accuracy                           0.82     25000\n",
      "   macro avg       0.79      0.74      0.76     25000\n",
      "weighted avg       0.82      0.82      0.82     25000\n",
      "\n"
     ]
    }
   ],
   "source": [
    "#Evaluating the new trained model:\n",
    "from sklearn.metrics import classification_report\n",
    "clf_report = classification_report(Y_test, Y_predict_rf)\n",
    "\n",
    "print(clf_report)"
   ]
  },
  {
   "cell_type": "markdown",
   "metadata": {},
   "source": [
    "## Feature Importance:\n",
    "\n",
    "Random forests give us a great tool to estimate the importance of the each feature that we ae using in the classification problem and this task will give us quite great physical explanation of the most important features in our problem.\n",
    "\n",
    "Here we computed the feature importances in this problem:"
   ]
  },
  {
   "cell_type": "code",
   "execution_count": 47,
   "metadata": {},
   "outputs": [
    {
     "name": "stdout",
     "output_type": "stream",
     "text": [
      "[0.00351725 0.00510815 0.00634205 0.00753678 0.00745508 0.00783546\n",
      " 0.00866236 0.00856387 0.01059792 0.01265108 0.01548749 0.01660077\n",
      " 0.02379068 0.02834686 0.04735597 0.07831502 0.10414787 0.13043616\n",
      " 0.1361785  0.11034206 0.0745782  0.04995737 0.04528654 0.03253374\n",
      " 0.02837277]\n"
     ]
    }
   ],
   "source": [
    "importance = classifier.feature_importances_\n",
    "#np.savetxt(\"im4600.csv\", importance, delimiter=\",\")\n",
    "print(importance)\n"
   ]
  },
  {
   "cell_type": "markdown",
   "metadata": {},
   "source": [
    "As we can see the velocity which is our last feature has small contribution in forming the classification.\n",
    "\n",
    "A histogram of the importance of densities in different cut-offs is also showed below:"
   ]
  },
  {
   "cell_type": "code",
   "execution_count": 48,
   "metadata": {
    "scrolled": false
   },
   "outputs": [
    {
     "data": {
      "image/png": "[encoded data removed]",
      "text/plain": [
       "<Figure size 432x288 with 1 Axes>"
      ]
     },
     "metadata": {
      "needs_background": "light"
     },
     "output_type": "display_data"
    }
   ],
   "source": [
    "delta = np.array([0.3 , 0.5 , 0.7 , 0.9, 1.1, 1.3, 1.5, 1.7, 1.9, 2.1, 2.3 , 2.5 , 2.7 , 2.9, 3.1, 3.3, 3.5 , 3.7, 3.9,\n",
    "                  4.1, 4.3, 4.5, 4.7, 4.9, 5.1])\n",
    "importance = np.array(importance)\n",
    "plt.title('Feature Importance for $M_c=11600$ particle')\n",
    "plt.bar(delta , importance, width = 0.2 , color = 'orange',edgecolor = 'red', capsize =0, linewidth = 1)\n",
    "#plt.vlines(1.3, 0 , 0.2 , color = 'green', linestyles = 'dashed' , label = \"IN-OUT boundary\")\n",
    "plt.xlabel('$r_c$ of $\\delta$ (Mpc)')\n",
    "plt.ylabel('Normalized Importance')\n",
    "#plt.legend(loc = 'upper right')\n",
    "#plt.savefig(\"4600FI.png\")\n",
    "plt.show()"
   ]
  },
  {
   "cell_type": "code",
   "execution_count": 49,
   "metadata": {},
   "outputs": [],
   "source": [
    "np.savetxt(\"Y_pre_11.csv\", Y_predict_rf, delimiter=\",\")\n",
    "np.savetxt(\"X_test11.csv\", X_test[:, 18], delimiter=\",\")"
   ]
  },
  {
   "cell_type": "code",
   "execution_count": 50,
   "metadata": {},
   "outputs": [],
   "source": [
    "np.savetxt(\"Y_pre_5.csv\", Y_pre_5, delimiter=\",\")\n",
    "np.savetxt(\"X_test5.csv\", X_test5, delimiter=\",\")\n",
    "\n",
    "np.savetxt(\"Y_pre_4.csv\", Y_pre_4, delimiter=\",\")\n",
    "np.savetxt(\"X_test4.csv\", X_test4, delimiter=\",\")\n",
    "\n",
    "np.savetxt(\"Y_pre_3.csv\", Y_pre_3, delimiter=\",\")\n",
    "np.savetxt(\"X_test3.csv\", X_test3, delimiter=\",\")"
   ]
  },
  {
   "cell_type": "code",
   "execution_count": 22,
   "metadata": {},
   "outputs": [
    {
     "data": {
      "image/png": "[encoded data removed]",
      "text/plain": [
       "<Figure size 432x288 with 1 Axes>"
      ]
     },
     "metadata": {
      "needs_background": "light"
     },
     "output_type": "display_data"
    }
   ],
   "source": [
    "# plt.plot(Y_predict_rf, X_test[:, 13], '.')\n",
    "# Y_pre_4 = Y_predict_rf\n",
    "# X_test4 = X_test[:, 13]"
   ]
  },
  {
   "cell_type": "code",
   "execution_count": null,
   "metadata": {},
   "outputs": [],
   "source": [
    "from sklearn.cluster import KMeans\n"
   ]
  }
 ],
 "metadata": {
  "kernelspec": {
   "display_name": "Python 3",
   "language": "python",
   "name": "python3"
  },
  "language_info": {
   "codemirror_mode": {
    "name": "ipython",
    "version": 3
   },
   "file_extension": ".py",
   "mimetype": "text/x-python",
   "name": "python",
   "nbconvert_exporter": "python",
   "pygments_lexer": "ipython3",
   "version": "3.7.6"
  }
 },
 "nbformat": 4,
 "nbformat_minor": 2
}
