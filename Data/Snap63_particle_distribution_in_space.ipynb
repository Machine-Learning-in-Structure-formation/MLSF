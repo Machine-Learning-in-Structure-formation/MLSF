{
 "cells": [
  {
   "cell_type": "code",
   "execution_count": 1,
   "metadata": {},
   "outputs": [
    {
     "name": "stdout",
     "output_type": "stream",
     "text": [
      "          63  11683  60.513615  57.290844  4.772299  -0.22465438  -5.7350774  \\\n",
      "0         63  11684  61.288437  57.917194  4.846988    30.724203  141.896470   \n",
      "1         63  11684  61.215515  57.685158  4.934363  -276.196200 -260.795840   \n",
      "2         63  11684  61.391360  57.647366  4.883800   209.604400 -122.346650   \n",
      "3         63  11684  60.941130  57.284206  4.731247   163.197510  139.767800   \n",
      "4         63  11684  61.336327  57.707290  4.949532  -120.630710   -4.445282   \n",
      "...       ..    ...        ...        ...       ...          ...         ...   \n",
      "19682994  63  11684  61.193550  57.672424  4.937500  -353.355770 -274.261700   \n",
      "19682995  63  11684  61.192220  57.680786  4.947290  -110.912605 -368.737460   \n",
      "19682996  63  11684  61.188393  57.699337  4.970048  -283.084870 -283.901520   \n",
      "19682997  63  11684  61.091007  57.561863  4.989381   471.892730  645.953700   \n",
      "19682998  63  11684  61.065823  57.592220  5.007216  -236.079770 -569.003660   \n",
      "\n",
      "            97.09575         1  \n",
      "0          -5.809572         2  \n",
      "1          12.719741         3  \n",
      "2         -54.541683         4  \n",
      "3         187.453800         5  \n",
      "4         134.266200         6  \n",
      "...              ...       ...  \n",
      "19682994  251.783940  19682996  \n",
      "19682995  119.259010  19682997  \n",
      "19682996  250.575990  19682998  \n",
      "19682997  256.814730  19682999  \n",
      "19682998  492.617400  19683000  \n",
      "\n",
      "[19682999 rows x 9 columns]\n"
     ]
    }
   ],
   "source": [
    "import pandas as pd\n",
    "df = pd.read_csv(r'C:\\Users\\Saba\\Documents\\ML project\\Full particle Data\\Snap63.csv', skiprows = 15)\n",
    "print(df)"
   ]
  },
  {
   "cell_type": "code",
   "execution_count": 2,
   "metadata": {},
   "outputs": [
    {
     "name": "stdout",
     "output_type": "stream",
     "text": [
      "[61.288437 61.215515 61.39136  ... 61.188393 61.091007 61.065823]\n",
      "[57.917194 57.685158 57.647366 ... 57.699337 57.561863 57.59222 ]\n",
      "[4.8469877 4.9343634 4.8838005 ... 4.9700484 4.9893813 5.0072155]\n"
     ]
    }
   ],
   "source": [
    "import numpy as np\n",
    "df = np.array(df)\n",
    "X_pos = df[:,2]\n",
    "Y_pos = df[:,3]\n",
    "Z_pos = df[:,4]\n",
    "print(X_pos)\n",
    "print(Y_pos)\n",
    "print(Z_pos)"
   ]
  },
  {
   "cell_type": "code",
   "execution_count": 6,
   "metadata": {},
   "outputs": [
    {
     "data": {
      "application/vnd.jupyter.widget-view+json": {
       "model_id": "9adfa5ccd77c41bfb42243104363243e",
       "version_major": 2,
       "version_minor": 0
      },
      "text/plain": [
       "Canvas(toolbar=Toolbar(toolitems=[('Home', 'Reset original view', 'home', 'home'), ('Back', 'Back to previous …"
      ]
     },
     "metadata": {},
     "output_type": "display_data"
    },
    {
     "name": "stdout",
     "output_type": "stream",
     "text": [
      "1\n"
     ]
    }
   ],
   "source": [
    "import matplotlib.pyplot as plt\n",
    "from mpl_toolkits.mplot3d import Axes3D\n",
    "\n",
    "%matplotlib widget\n",
    "\n",
    "fig = plt.figure(figsize=(10,10))\n",
    "ax = fig.add_subplot(111, projection='3d')\n",
    "#as th resolution of the simulation is 5 kpc we take the size of our particles to be:\n",
    "ps = 5 * 1000 / (60 * 10^6)\n",
    "# load some test data for demonstration and plotting\n",
    "title = 'Particles_distribution_in_space_at_z=0'\n",
    "ax.set_title(title)\n",
    "ax.scatter(X_pos[0::10], Y_pos[0::10], Z_pos[0::10], s = 0.0001 , color = 'rebeccapurple')\n",
    "ax.set_xlabel('X Mpc * h^-1')\n",
    "ax.set_ylabel('Y Mpc * h^-1')\n",
    "ax.set_zlabel('Z Mpc * h^-1')\n",
    "fig.savefig('{}.png'.format(title))\n",
    "plt.show()\n",
    "print(1)"
   ]
  },
  {
   "cell_type": "code",
   "execution_count": null,
   "metadata": {},
   "outputs": [],
   "source": []
  }
 ],
 "metadata": {
  "kernelspec": {
   "display_name": "Python 3",
   "language": "python",
   "name": "python3"
  },
  "language_info": {
   "codemirror_mode": {
    "name": "ipython",
    "version": 3
   },
   "file_extension": ".py",
   "mimetype": "text/x-python",
   "name": "python",
   "nbconvert_exporter": "python",
   "pygments_lexer": "ipython3",
   "version": "3.7.3"
  }
 },
 "nbformat": 4,
 "nbformat_minor": 2
}
