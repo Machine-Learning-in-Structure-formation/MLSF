{
 "cells": [
  {
   "cell_type": "markdown",
   "metadata": {},
   "source": [
    "### This notebook is focused on finding the distribution of halo masses and generating the IN and OUT classes for the mass bound m_c = 1600 particles\n",
    "\n",
    "\n",
    "### It can be generalized for any m_c > 1600 particles\n"
   ]
  },
  {
   "cell_type": "code",
   "execution_count": 1,
   "metadata": {},
   "outputs": [
    {
     "name": "stdout",
     "output_type": "stream",
     "text": [
      "         particleId       subhaloId     np  redshift\n",
      "0                12  63000200000653   3194       0.0\n",
      "1                44  63000200000653   3194       0.0\n",
      "2                45  63000200000653   3194       0.0\n",
      "3                46  63000200000653   3194       0.0\n",
      "4                51  63000200000653   3194       0.0\n",
      "...             ...             ...    ...       ...\n",
      "5578115    19682988  63000100000091  25323       0.0\n",
      "5578116    19682991  63000100000091  25323       0.0\n",
      "5578117    19682993  63000100000091  25323       0.0\n",
      "5578118    19682999  63000100000091  25323       0.0\n",
      "5578119    19683000  63000100000091  25323       0.0\n",
      "\n",
      "[5578120 rows x 4 columns]\n"
     ]
    }
   ],
   "source": [
    "import pandas as pd\n",
    "#importing the particles which are in a halo with mass more than 1600 particle\n",
    "df = pd.read_csv(r'C:\\Users\\Saba\\Documents\\ML project\\Full_particle_Data\\IN_Halo.csv', skiprows = 9)\n",
    "print(df)"
   ]
  },
  {
   "cell_type": "code",
   "execution_count": 4,
   "metadata": {},
   "outputs": [
    {
     "name": "stdout",
     "output_type": "stream",
     "text": [
      "5578120\n",
      "[[6.30002e+13 3.19400e+03]\n",
      " [6.30002e+13 3.19400e+03]\n",
      " [6.30002e+13 3.19400e+03]\n",
      " ...\n",
      " [6.30001e+13 2.53230e+04]\n",
      " [6.30001e+13 2.53230e+04]\n",
      " [6.30001e+13 2.53230e+04]]\n"
     ]
    }
   ],
   "source": [
    "import numpy as np\n",
    "df = np.array(df)\n",
    "particleID = df[:,0]\n",
    "halo = df[:,1:3:1]\n",
    "print(len(particleID))\n",
    "print(halo)"
   ]
  },
  {
   "cell_type": "code",
   "execution_count": 3,
   "metadata": {},
   "outputs": [
    {
     "name": "stdout",
     "output_type": "stream",
     "text": [
      "[[6.30000e+13 5.19840e+04]\n",
      " [6.30000e+13 2.53500e+03]\n",
      " [6.30000e+13 4.02770e+04]\n",
      " ...\n",
      " [6.30007e+13 1.72900e+03]\n",
      " [6.30007e+13 1.60400e+03]\n",
      " [6.30007e+13 1.65600e+03]]\n",
      "706\n"
     ]
    }
   ],
   "source": [
    "#finding all the IDs and mass of halos bigger than 1600 particles\n",
    "halo = np.unique(halo , axis=0)\n",
    "print(halo)\n",
    "#number of such halos:\n",
    "num_halo = len(halo)\n",
    "print(num_halo)"
   ]
  },
  {
   "cell_type": "code",
   "execution_count": 6,
   "metadata": {},
   "outputs": [
    {
     "data": {
      "image/png": "[encoded data removed]",
      "text/plain": [
       "<Figure size 432x288 with 1 Axes>"
      ]
     },
     "metadata": {
      "needs_background": "light"
     },
     "output_type": "display_data"
    },
    {
     "name": "stdout",
     "output_type": "stream",
     "text": [
      "706\n"
     ]
    }
   ],
   "source": [
    "#plotting the histogram of halo mass\n",
    "import matplotlib.pyplot as plt\n",
    "\n",
    "plt.hist(halo[:,1], bins=100, align='left', color= 'forestgreen', label='We define halo to be objects with more than 1600 particles')\n",
    "\n",
    "plt.title('Histogram of Halo masses')\n",
    "plt.xlabel('Halo Mass')\n",
    "plt.ylabel('Abundance of each mass')\n",
    "plt.text(50000, 200, ' total number of halos = {}'.format(num_halo))\n",
    "plt.grid(True)\n",
    "plt.legend()\n",
    "plt.savefig('Histogram_of_halo_masses')\n",
    "plt.show()\n",
    "print(len(halo[:,1]))"
   ]
  },
  {
   "cell_type": "code",
   "execution_count": 8,
   "metadata": {},
   "outputs": [
    {
     "name": "stdout",
     "output_type": "stream",
     "text": [
      "          snapnum  phkey         x          y          z         vx  \\\n",
      "0               0      0  0.079177   0.003392   0.416711   6.259036   \n",
      "1               0      0  0.289189   0.130278   0.456327   7.491590   \n",
      "2               0      0  0.262699   0.197281   0.224564  32.359110   \n",
      "3               0      0  0.240575   0.396040   0.038927  67.365524   \n",
      "4               0      0  0.408888   0.367119   0.182086 -14.317771   \n",
      "...           ...    ...       ...        ...        ...        ...   \n",
      "19682995        0      0  0.285719   0.102112   0.024742  36.839947   \n",
      "19682996        0  28086  0.338755  62.488060  62.102010  21.432320   \n",
      "19682997        0  32767  0.396658   0.143351  62.302100  30.167624   \n",
      "19682998        0  32767  0.155790   0.036591  62.291122  68.368500   \n",
      "19682999        0      0  0.052702   0.014002   0.020630  72.956330   \n",
      "\n",
      "                 vy          vz        id  \n",
      "0        -202.86237   43.663280         1  \n",
      "1        -184.12308   35.697285         2  \n",
      "2        -205.89218   91.230120         3  \n",
      "3        -224.21112  142.792710         4  \n",
      "4        -216.64820  106.450930         5  \n",
      "...             ...         ...       ...  \n",
      "19682995 -176.12938  189.538670  19682996  \n",
      "19682996 -139.23087  277.197400  19682997  \n",
      "19682997 -154.33218  236.008880  19682998  \n",
      "19682998 -176.46188  246.383300  19682999  \n",
      "19682999 -200.96982  219.741710  19683000  \n",
      "\n",
      "[19683000 rows x 9 columns]\n"
     ]
    }
   ],
   "source": [
    "#Importing the data of particles in first snap number z = 127\n",
    "particles = pd.read_csv(r'C:\\Users\\Saba\\Documents\\ML project\\Full_particle_Data\\Snap0.csv', skiprows = 14)\n",
    "print(particles)"
   ]
  },
  {
   "cell_type": "code",
   "execution_count": 9,
   "metadata": {},
   "outputs": [
    {
     "name": "stdout",
     "output_type": "stream",
     "text": [
      "          snapnum  phkey         x          y          z         vx  \\\n",
      "0               0      0  0.079177   0.003392   0.416711   6.259036   \n",
      "1               0      0  0.289189   0.130278   0.456327   7.491590   \n",
      "2               0      0  0.262699   0.197281   0.224564  32.359110   \n",
      "3               0      0  0.240575   0.396040   0.038927  67.365524   \n",
      "4               0      0  0.408888   0.367119   0.182086 -14.317771   \n",
      "...           ...    ...       ...        ...        ...        ...   \n",
      "19682995        0      0  0.285719   0.102112   0.024742  36.839947   \n",
      "19682996        0  28086  0.338755  62.488060  62.102010  21.432320   \n",
      "19682997        0  32767  0.396658   0.143351  62.302100  30.167624   \n",
      "19682998        0  32767  0.155790   0.036591  62.291122  68.368500   \n",
      "19682999        0      0  0.052702   0.014002   0.020630  72.956330   \n",
      "\n",
      "                 vy          vz        id  In_halo  \n",
      "0        -202.86237   43.663280         1        0  \n",
      "1        -184.12308   35.697285         2        1  \n",
      "2        -205.89218   91.230120         3        0  \n",
      "3        -224.21112  142.792710         4        1  \n",
      "4        -216.64820  106.450930         5        1  \n",
      "...             ...         ...       ...      ...  \n",
      "19682995 -176.12938  189.538670  19682996        0  \n",
      "19682996 -139.23087  277.197400  19682997        0  \n",
      "19682997 -154.33218  236.008880  19682998        0  \n",
      "19682998 -176.46188  246.383300  19682999        1  \n",
      "19682999 -200.96982  219.741710  19683000        1  \n",
      "\n",
      "[19683000 rows x 10 columns]\n",
      "5578120\n"
     ]
    }
   ],
   "source": [
    "#we want to make a column, In_Halo which saves the information about particles in z=127,in a way that shows if this particle is in a halo at z=0 or not\n",
    "# 0 for OUT halo\n",
    "# 1 for IN halo\n",
    "\n",
    "particles['In_halo'] = particles.id.isin(particleID).astype(int)\n",
    "print (particles)\n",
    "print( len(particles[particles['In_halo'] == 1]))"
   ]
  },
  {
   "cell_type": "code",
   "execution_count": 12,
   "metadata": {},
   "outputs": [
    {
     "name": "stdout",
     "output_type": "stream",
     "text": [
      "Data made\n"
     ]
    }
   ],
   "source": [
    "particles.to_csv(r'C:\\Users\\Saba\\Documents\\ML project\\Full_particle_Data\\particles_information.csv' , sep = ',' , encoding='utf-8', index=False)\n",
    "print('Data made')"
   ]
  },
  {
   "cell_type": "code",
   "execution_count": 14,
   "metadata": {},
   "outputs": [
    {
     "data": {
      "text/plain": [
       "19683000"
      ]
     },
     "execution_count": 14,
     "metadata": {},
     "output_type": "execute_result"
    }
   ],
   "source": [
    "len(particles)"
   ]
  },
  {
   "cell_type": "code",
   "execution_count": null,
   "metadata": {},
   "outputs": [],
   "source": []
  }
 ],
 "metadata": {
  "kernelspec": {
   "display_name": "Python 3",
   "language": "python",
   "name": "python3"
  },
  "language_info": {
   "codemirror_mode": {
    "name": "ipython",
    "version": 3
   },
   "file_extension": ".py",
   "mimetype": "text/x-python",
   "name": "python",
   "nbconvert_exporter": "python",
   "pygments_lexer": "ipython3",
   "version": "3.7.3"
  }
 },
 "nbformat": 4,
 "nbformat_minor": 2
}
